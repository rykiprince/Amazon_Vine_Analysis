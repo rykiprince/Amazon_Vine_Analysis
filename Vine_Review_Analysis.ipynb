{
  "nbformat": 4,
  "nbformat_minor": 0,
  "metadata": {
    "colab": {
      "name": "Copy of Vine_Review_Analysis.ipynb",
      "provenance": [],
      "collapsed_sections": []
    },
    "kernelspec": {
      "name": "python3",
      "display_name": "Python 3"
    },
    "language_info": {
      "name": "python"
    }
  },
  "cells": [
    {
      "cell_type": "markdown",
      "metadata": {
        "id": "9QVB4x33LWJZ"
      },
      "source": [
        "### Extract the dataset\n"
      ]
    },
    {
      "cell_type": "code",
      "metadata": {
        "id": "Mj--YfdJK85s",
        "colab": {
          "base_uri": "https://localhost:8080/"
        },
        "outputId": "6071faea-9ed7-4142-8eb2-53918e444f0e"
      },
      "source": [
        "import os\n",
        "# Find the latest version of spark 3.0 from http://www.apache.org/dist/spark/ and enter as the spark version\n",
        "# For example:\n",
        "# spark_version = 'spark-3.0.3'\n",
        "spark_version = 'spark-3.0.3'\n",
        "os.environ['SPARK_VERSION']=spark_version\n",
        "\n",
        "# Install Spark and Java\n",
        "!apt-get update\n",
        "!apt-get install openjdk-11-jdk-headless -qq > /dev/null\n",
        "!wget -q http://www.apache.org/dist/spark/$SPARK_VERSION/$SPARK_VERSION-bin-hadoop2.7.tgz\n",
        "!tar xf $SPARK_VERSION-bin-hadoop2.7.tgz\n",
        "!pip install -q findspark\n",
        "\n",
        "# Set Environment Variables\n",
        "import os\n",
        "os.environ[\"JAVA_HOME\"] = \"/usr/lib/jvm/java-11-openjdk-amd64\"\n",
        "os.environ[\"SPARK_HOME\"] = f\"/content/{spark_version}-bin-hadoop2.7\"\n",
        "\n",
        "# Start a SparkSession\n",
        "import findspark\n",
        "findspark.init()"
      ],
      "execution_count": 1,
      "outputs": [
        {
          "output_type": "stream",
          "name": "stdout",
          "text": [
            "\r0% [Working]\r            \rGet:1 http://security.ubuntu.com/ubuntu bionic-security InRelease [88.7 kB]\n",
            "Get:2 https://cloud.r-project.org/bin/linux/ubuntu bionic-cran40/ InRelease [3,626 B]\n",
            "Ign:3 https://developer.download.nvidia.com/compute/cuda/repos/ubuntu1804/x86_64  InRelease\n",
            "Get:4 http://ppa.launchpad.net/c2d4u.team/c2d4u4.0+/ubuntu bionic InRelease [15.9 kB]\n",
            "Hit:5 http://archive.ubuntu.com/ubuntu bionic InRelease\n",
            "Ign:6 https://developer.download.nvidia.com/compute/machine-learning/repos/ubuntu1804/x86_64  InRelease\n",
            "Get:7 http://archive.ubuntu.com/ubuntu bionic-updates InRelease [88.7 kB]\n",
            "Hit:8 https://developer.download.nvidia.com/compute/cuda/repos/ubuntu1804/x86_64  Release\n",
            "Hit:9 https://developer.download.nvidia.com/compute/machine-learning/repos/ubuntu1804/x86_64  Release\n",
            "Hit:10 http://ppa.launchpad.net/cran/libgit2/ubuntu bionic InRelease\n",
            "Get:11 http://archive.ubuntu.com/ubuntu bionic-backports InRelease [74.6 kB]\n",
            "Get:12 http://security.ubuntu.com/ubuntu bionic-security/main amd64 Packages [2,365 kB]\n",
            "Get:13 http://ppa.launchpad.net/deadsnakes/ppa/ubuntu bionic InRelease [15.9 kB]\n",
            "Get:14 http://security.ubuntu.com/ubuntu bionic-security/universe amd64 Packages [1,431 kB]\n",
            "Hit:15 http://ppa.launchpad.net/graphics-drivers/ppa/ubuntu bionic InRelease\n",
            "Get:16 http://ppa.launchpad.net/c2d4u.team/c2d4u4.0+/ubuntu bionic/main Sources [1,802 kB]\n",
            "Get:19 http://ppa.launchpad.net/c2d4u.team/c2d4u4.0+/ubuntu bionic/main amd64 Packages [922 kB]\n",
            "Get:20 http://archive.ubuntu.com/ubuntu bionic-updates/universe amd64 Packages [2,210 kB]\n",
            "Get:21 http://archive.ubuntu.com/ubuntu bionic-updates/main amd64 Packages [2,801 kB]\n",
            "Get:22 http://ppa.launchpad.net/deadsnakes/ppa/ubuntu bionic/main amd64 Packages [40.8 kB]\n",
            "Fetched 11.9 MB in 3s (3,939 kB/s)\n",
            "Reading package lists... Done\n"
          ]
        }
      ]
    },
    {
      "cell_type": "code",
      "metadata": {
        "id": "sYqwtmSDLBjm",
        "colab": {
          "base_uri": "https://localhost:8080/"
        },
        "outputId": "5b8b0f13-8c0c-4b4b-e02e-a41301a91982"
      },
      "source": [
        "# Download the Postgres driver that will allow Spark to interact with Postgres.\n",
        "!wget https://jdbc.postgresql.org/download/postgresql-42.2.16.jar"
      ],
      "execution_count": 2,
      "outputs": [
        {
          "output_type": "stream",
          "name": "stdout",
          "text": [
            "--2021-10-10 10:25:47--  https://jdbc.postgresql.org/download/postgresql-42.2.16.jar\n",
            "Resolving jdbc.postgresql.org (jdbc.postgresql.org)... 72.32.157.228, 2001:4800:3e1:1::228\n",
            "Connecting to jdbc.postgresql.org (jdbc.postgresql.org)|72.32.157.228|:443... connected.\n",
            "HTTP request sent, awaiting response... 200 OK\n",
            "Length: 1002883 (979K) [application/java-archive]\n",
            "Saving to: ‘postgresql-42.2.16.jar’\n",
            "\n",
            "postgresql-42.2.16. 100%[===================>] 979.38K  5.71MB/s    in 0.2s    \n",
            "\n",
            "2021-10-10 10:25:47 (5.71 MB/s) - ‘postgresql-42.2.16.jar’ saved [1002883/1002883]\n",
            "\n"
          ]
        }
      ]
    },
    {
      "cell_type": "code",
      "metadata": {
        "id": "pYjaac_nLDel"
      },
      "source": [
        "from pyspark.sql import SparkSession\n",
        "spark = SparkSession.builder.appName(\"M16-Amazon-Challenge\").config(\"spark.driver.extraClassPath\",\"/content/postgresql-42.2.16.jar\").getOrCreate()"
      ],
      "execution_count": 3,
      "outputs": []
    },
    {
      "cell_type": "code",
      "metadata": {
        "colab": {
          "base_uri": "https://localhost:8080/"
        },
        "id": "g7aOeWhRLPui",
        "outputId": "684e8426-299d-49ca-f43a-5c78d39aafdd"
      },
      "source": [
        "from pyspark import SparkFiles\n",
        "url = \"https://s3.amazonaws.com/amazon-reviews-pds/tsv/amazon_reviews_us_Office_Products_v1_00.tsv.gz\"\n",
        "spark.sparkContext.addFile(url)\n",
        "df = spark.read.option(\"encoding\", \"UTF-8\").csv(SparkFiles.get(\"\"), sep=\"\\t\", header=True, inferSchema=True)\n",
        "df.show()"
      ],
      "execution_count": 4,
      "outputs": [
        {
          "output_type": "stream",
          "name": "stdout",
          "text": [
            "+-----------+-----------+--------------+----------+--------------+--------------------+----------------+-----------+-------------+-----------+----+-----------------+--------------------+--------------------+-----------+\n",
            "|marketplace|customer_id|     review_id|product_id|product_parent|       product_title|product_category|star_rating|helpful_votes|total_votes|vine|verified_purchase|     review_headline|         review_body|review_date|\n",
            "+-----------+-----------+--------------+----------+--------------+--------------------+----------------+-----------+-------------+-----------+----+-----------------+--------------------+--------------------+-----------+\n",
            "|         US|   43081963|R18RVCKGH1SSI9|B001BM2MAC|     307809868|Scotch Cushion Wr...| Office Products|          5|            0|          0|   N|                Y|          Five Stars|      Great product.| 2015-08-31|\n",
            "|         US|   10951564|R3L4L6LW1PUOFY|B00DZYEXPQ|      75004341|Dust-Off Compress...| Office Products|          5|            0|          1|   N|                Y|Phffffffft, Phfff...|What's to say abo...| 2015-08-31|\n",
            "|         US|   21143145|R2J8AWXWTDX2TF|B00RTMUHDW|     529689027|Amram Tagger Stan...| Office Products|          5|            0|          0|   N|                Y|but I am sure I w...|Haven't used yet,...| 2015-08-31|\n",
            "|         US|   52782374|R1PR37BR7G3M6A|B00D7H8XB6|     868449945|AmazonBasics 12-S...| Office Products|          1|            2|          3|   N|                Y|and the shredder ...|Although this was...| 2015-08-31|\n",
            "|         US|   24045652|R3BDDDZMZBZDPU|B001XCWP34|      33521401|Derwent Colored P...| Office Products|          4|            0|          0|   N|                Y|          Four Stars|Gorgeous colors a...| 2015-08-31|\n",
            "|         US|   21751234| R8T6MO75ND212|B004J2NBCO|     214932869|Quartet Magnetic ...| Office Products|          5|            0|          0|   N|                Y|          Five Stars|Perfect for plann...| 2015-08-31|\n",
            "|         US|    9109358|R2YWMQT2V11XYZ|B00MOPAG8K|     863351797|KITLEX40X2592UNV2...| Office Products|          5|            0|          0|   N|                N|          Five Stars|Gold plated fuser...| 2015-08-31|\n",
            "|         US|    9967215|R1V2HYL6OI9V39|B003AHIK7U|     383470576|Bible Dry Highlig...| Office Products|          5|            6|          6|   N|                Y|Won't bleed throu...|I have used these...| 2015-08-31|\n",
            "|         US|   11234247|R3BLQBKUNXGFS4|B006TKH2RO|     999128878|Parker Ingenuity ...| Office Products|          5|            0|          0|   N|                Y|           Nice pen!|Heavy pen that wr...| 2015-08-31|\n",
            "|         US|   12731488|R17MOWJCAR9Y8Q|B00W61M9K0|     622066861| RFID Card Protector| Office Products|          5|            0|          0|   N|                Y| Credit card sleeves|Not sure if they ...| 2015-08-31|\n",
            "|         US|   49861762|R11EPG1GHOXMGB|B00BXOGI3A|     688569009|The Original Stan...| Office Products|          4|            0|          0|   N|                N|          Four Stars|Great product for...| 2015-08-31|\n",
            "|         US|    1541556|R2797NKTEX5THN|B0018RHWGE|     513803406|Zebra Sparky-1 WK...| Office Products|          5|            0|          0|   N|                Y|Love these highli...|Love these highli...| 2015-08-31|\n",
            "|         US|   10579374|R2RUTMJS50E4WF|B00IA8H2OG|     201212366|E-Z Ink (TM) Comp...| Office Products|          5|            0|          0|   N|                Y|          Five Stars|Received on time,...| 2015-08-31|\n",
            "|         US|   43622307|R1FZYL1HX7O4RM|B007TOIA66|     954138793|Eric 11\" Giant Si...| Office Products|          1|            0|          0|   N|                Y|            One Star|worked about a mo...| 2015-08-31|\n",
            "|         US|   50773856|R22ENT0KU5CHPX|B00EANURCE|      43216076|Brother MFCJ450 W...| Office Products|          5|            0|          0|   N|                Y|Brothers Wireless...|I purchased this ...| 2015-08-31|\n",
            "|         US|   10165223|R2E5M7FWJC9JLE|B00T3Q0EOO|     637096152|Clarity D613 DECT...| Office Products|          5|            0|          0|   N|                Y|          Five Stars|Everything works ...| 2015-08-31|\n",
            "|         US|   14744748|R31BNW3O2Q5J3E|B00WN0N818|     710040412|Permo 50 Feet Whi...| Office Products|          5|            0|          0|   N|                Y|          Five Stars|          Thank you!| 2015-08-31|\n",
            "|         US|   37536631|R1JMQF1OOMNF49|B001GAOTSW|     696023182|Pilot G2 Retracta...| Office Products|          5|            0|          0|   N|                Y|          Five Stars|     Love these pens| 2015-08-31|\n",
            "|         US|     126687| RJH6WQDOA6CZP|B003BNY7PW|     474277918|AT&T DECT 6.0 Acc...| Office Products|          5|            0|          0|   N|                Y|          Five Stars|The product is ev...| 2015-08-31|\n",
            "|         US|   31130095|R2EVL0Z5JVV86X|B00092RJX0|     887474295|Pilot G2 Retracta...| Office Products|          5|            0|          0|   N|                Y|          Five Stars|           Great buy| 2015-08-31|\n",
            "+-----------+-----------+--------------+----------+--------------+--------------------+----------------+-----------+-------------+-----------+----+-----------------+--------------------+--------------------+-----------+\n",
            "only showing top 20 rows\n",
            "\n"
          ]
        }
      ]
    },
    {
      "cell_type": "code",
      "metadata": {
        "colab": {
          "base_uri": "https://localhost:8080/"
        },
        "id": "EWtYqRESLSvk",
        "outputId": "13190943-7b15-40b4-c84d-4b95a7ef14f2"
      },
      "source": [
        "from pyspark.sql.functions import to_date\n",
        "# Read in the Review dataset as a DataFrame\n",
        "office_df = df\n",
        "office_df.show()"
      ],
      "execution_count": 5,
      "outputs": [
        {
          "output_type": "stream",
          "name": "stdout",
          "text": [
            "+-----------+-----------+--------------+----------+--------------+--------------------+----------------+-----------+-------------+-----------+----+-----------------+--------------------+--------------------+-----------+\n",
            "|marketplace|customer_id|     review_id|product_id|product_parent|       product_title|product_category|star_rating|helpful_votes|total_votes|vine|verified_purchase|     review_headline|         review_body|review_date|\n",
            "+-----------+-----------+--------------+----------+--------------+--------------------+----------------+-----------+-------------+-----------+----+-----------------+--------------------+--------------------+-----------+\n",
            "|         US|   43081963|R18RVCKGH1SSI9|B001BM2MAC|     307809868|Scotch Cushion Wr...| Office Products|          5|            0|          0|   N|                Y|          Five Stars|      Great product.| 2015-08-31|\n",
            "|         US|   10951564|R3L4L6LW1PUOFY|B00DZYEXPQ|      75004341|Dust-Off Compress...| Office Products|          5|            0|          1|   N|                Y|Phffffffft, Phfff...|What's to say abo...| 2015-08-31|\n",
            "|         US|   21143145|R2J8AWXWTDX2TF|B00RTMUHDW|     529689027|Amram Tagger Stan...| Office Products|          5|            0|          0|   N|                Y|but I am sure I w...|Haven't used yet,...| 2015-08-31|\n",
            "|         US|   52782374|R1PR37BR7G3M6A|B00D7H8XB6|     868449945|AmazonBasics 12-S...| Office Products|          1|            2|          3|   N|                Y|and the shredder ...|Although this was...| 2015-08-31|\n",
            "|         US|   24045652|R3BDDDZMZBZDPU|B001XCWP34|      33521401|Derwent Colored P...| Office Products|          4|            0|          0|   N|                Y|          Four Stars|Gorgeous colors a...| 2015-08-31|\n",
            "|         US|   21751234| R8T6MO75ND212|B004J2NBCO|     214932869|Quartet Magnetic ...| Office Products|          5|            0|          0|   N|                Y|          Five Stars|Perfect for plann...| 2015-08-31|\n",
            "|         US|    9109358|R2YWMQT2V11XYZ|B00MOPAG8K|     863351797|KITLEX40X2592UNV2...| Office Products|          5|            0|          0|   N|                N|          Five Stars|Gold plated fuser...| 2015-08-31|\n",
            "|         US|    9967215|R1V2HYL6OI9V39|B003AHIK7U|     383470576|Bible Dry Highlig...| Office Products|          5|            6|          6|   N|                Y|Won't bleed throu...|I have used these...| 2015-08-31|\n",
            "|         US|   11234247|R3BLQBKUNXGFS4|B006TKH2RO|     999128878|Parker Ingenuity ...| Office Products|          5|            0|          0|   N|                Y|           Nice pen!|Heavy pen that wr...| 2015-08-31|\n",
            "|         US|   12731488|R17MOWJCAR9Y8Q|B00W61M9K0|     622066861| RFID Card Protector| Office Products|          5|            0|          0|   N|                Y| Credit card sleeves|Not sure if they ...| 2015-08-31|\n",
            "|         US|   49861762|R11EPG1GHOXMGB|B00BXOGI3A|     688569009|The Original Stan...| Office Products|          4|            0|          0|   N|                N|          Four Stars|Great product for...| 2015-08-31|\n",
            "|         US|    1541556|R2797NKTEX5THN|B0018RHWGE|     513803406|Zebra Sparky-1 WK...| Office Products|          5|            0|          0|   N|                Y|Love these highli...|Love these highli...| 2015-08-31|\n",
            "|         US|   10579374|R2RUTMJS50E4WF|B00IA8H2OG|     201212366|E-Z Ink (TM) Comp...| Office Products|          5|            0|          0|   N|                Y|          Five Stars|Received on time,...| 2015-08-31|\n",
            "|         US|   43622307|R1FZYL1HX7O4RM|B007TOIA66|     954138793|Eric 11\" Giant Si...| Office Products|          1|            0|          0|   N|                Y|            One Star|worked about a mo...| 2015-08-31|\n",
            "|         US|   50773856|R22ENT0KU5CHPX|B00EANURCE|      43216076|Brother MFCJ450 W...| Office Products|          5|            0|          0|   N|                Y|Brothers Wireless...|I purchased this ...| 2015-08-31|\n",
            "|         US|   10165223|R2E5M7FWJC9JLE|B00T3Q0EOO|     637096152|Clarity D613 DECT...| Office Products|          5|            0|          0|   N|                Y|          Five Stars|Everything works ...| 2015-08-31|\n",
            "|         US|   14744748|R31BNW3O2Q5J3E|B00WN0N818|     710040412|Permo 50 Feet Whi...| Office Products|          5|            0|          0|   N|                Y|          Five Stars|          Thank you!| 2015-08-31|\n",
            "|         US|   37536631|R1JMQF1OOMNF49|B001GAOTSW|     696023182|Pilot G2 Retracta...| Office Products|          5|            0|          0|   N|                Y|          Five Stars|     Love these pens| 2015-08-31|\n",
            "|         US|     126687| RJH6WQDOA6CZP|B003BNY7PW|     474277918|AT&T DECT 6.0 Acc...| Office Products|          5|            0|          0|   N|                Y|          Five Stars|The product is ev...| 2015-08-31|\n",
            "|         US|   31130095|R2EVL0Z5JVV86X|B00092RJX0|     887474295|Pilot G2 Retracta...| Office Products|          5|            0|          0|   N|                Y|          Five Stars|           Great buy| 2015-08-31|\n",
            "+-----------+-----------+--------------+----------+--------------+--------------------+----------------+-----------+-------------+-----------+----+-----------------+--------------------+--------------------+-----------+\n",
            "only showing top 20 rows\n",
            "\n"
          ]
        }
      ]
    },
    {
      "cell_type": "code",
      "metadata": {
        "colab": {
          "base_uri": "https://localhost:8080/"
        },
        "id": "C8ftmFmTLi1Q",
        "outputId": "0445c8c7-7a8c-445f-de3c-dbfe485f3d6a"
      },
      "source": [
        "filter_df = office_df.filter(office_df[\"total_votes\"] >= 20)\n",
        "filter_df.show()"
      ],
      "execution_count": 6,
      "outputs": [
        {
          "output_type": "stream",
          "name": "stdout",
          "text": [
            "+-----------+-----------+--------------+----------+--------------+--------------------+----------------+-----------+-------------+-----------+----+-----------------+--------------------+--------------------+-----------+\n",
            "|marketplace|customer_id|     review_id|product_id|product_parent|       product_title|product_category|star_rating|helpful_votes|total_votes|vine|verified_purchase|     review_headline|         review_body|review_date|\n",
            "+-----------+-----------+--------------+----------+--------------+--------------------+----------------+-----------+-------------+-----------+----+-----------------+--------------------+--------------------+-----------+\n",
            "|         US|   11212836|R243UXMMSSZVS6|B00C2MBMNS|     934393421|Lion 2-Pocket Pla...| Office Products|          2|          254|        254|   N|                Y|      Disappointing!|We ordered about ...| 2015-08-31|\n",
            "|         US|   23384746|R2P92EHR0S5GBB|B00C47U5OI|     712795023|24pcs Vitamin pil...| Office Products|          1|          110|        159|   N|                Y|    Screw these guys|I bought these pe...| 2015-08-31|\n",
            "|         US|   45671936| RN93Z4XPNAANY|B001E6C9AS|     353412942|uni-ball Vision E...| Office Products|          5|           31|         31|   N|                Y|              Great!|Got these to take...| 2015-08-31|\n",
            "|         US|   52607844|R1O74T9XO3OPQ4|B00HH32CWW|     441615697|Stabilo Point 68 ...| Office Products|          5|           38|         38|   N|                Y|Both sizes work g...|I had the set of ...| 2015-08-31|\n",
            "|         US|    2640608|R3DMIHE5BMUT0R|B00M1VVWWQ|     538874514|bloom daily plann...| Office Products|          3|           21|         21|   N|                Y|It's almost perfe...|It's almost perfe...| 2015-08-31|\n",
            "|         US|   12887293|R1QWY17NLHQSB5|B001B0BBTW|     781645909|3M Easy Adjust Ke...| Office Products|          5|           36|         36|   N|                Y|Holy smokes Batma...|Lets start with s...| 2015-08-31|\n",
            "|         US|    1718619|R3LANI678T2YQS|B011K7O1HE|     385920359|Gel Pens by Color...| Office Products|          5|           39|         47|   N|                N|BEST VALUE AND QU...|What can I say, t...| 2015-08-31|\n",
            "|         US|   24177974| RLV4XQ49EBYYU|B0095FFUM4|     929613269|Leuchtturm1917 Ha...| Office Products|          1|           56|         65|   N|                Y|       Disappointed.|I bought this hop...| 2015-08-31|\n",
            "|         US|   27911354| RPBPAJKFD0T26|B00XLZP150|     398453199|Thornton's Art Su...| Office Products|          5|           63|         63|   N|                Y|This is a great s...|This is a great s...| 2015-08-31|\n",
            "|         US|   35558106|R1IHO8C56KBN6C|B000086BB1|     788110326|Day-Timer Distres...| Office Products|          1|           61|         64|   N|                Y|Picture of inside...|The inside of thi...| 2015-08-31|\n",
            "|         US|   19761939|R3HZT0MTHYQBU7|B003OCU53S|     593444757|Five Star Pocket ...| Office Products|          1|          221|        221|   N|                Y|I was mislead and...|I was mislead and...| 2015-08-31|\n",
            "|         US|   10615831|R2ETWIKUXWV2FA|B00ZGQD4GU|     880721569|Top Quality Gel P...| Office Products|          1|           15|         32|   N|                Y|   Not worth the $$$|I was under the i...| 2015-08-31|\n",
            "|         US|   39647081|R1M9644S4471JU|B013HO4OR0|     831445994|The Pencil Grip K...| Office Products|          5|           20|         20|   N|                Y|It's about time s...|Kwik Stix are ama...| 2015-08-31|\n",
            "|         US|   10917581| R6FPJVAWQ472P|B005IXSXPI|     528615429|Tabletote Plus Po...| Office Products|          5|           33|         34|   N|                Y|Good purchase, ha...|This actually tur...| 2015-08-31|\n",
            "|         US|   43833151| RYQ3KOWJLYPWW|B00PV55FZO|      12118092|720P LED LCD Vide...| Office Products|          4|           19|         20|   N|                Y|Was Skeptical But...|I spent a ton of ...| 2015-08-31|\n",
            "|         US|   43212433|R2J6UYRU7AX8NS|B00T0ZG06O|      41392551|Neo2 Alphasmart W...| Office Products|          5|           23|         24|   N|                Y|          Sweet buy!|As a writer I fou...| 2015-08-31|\n",
            "|         US|    8365945|R32Y1KGXWPHEVP|B00P32EURE|     291018948|RuiChy London Sty...| Office Products|          5|           44|         44|   N|                N|It's seemed a bit...|It's seemed a bit...| 2015-08-31|\n",
            "|         US|    3509589|R3M14RO30UBS32|B00JN2LKRI|     921502629|Vintage Retro Lea...| Office Products|          2|           22|         30|   N|                Y|           Two Stars|It wasnt what i e...| 2015-08-31|\n",
            "|         US|   51042716|R1FJ1LLYMAIINJ|B00006HUP7|     659087223|Avery Clear Full-...| Office Products|          2|           27|         28|   N|                Y|Buyer Beware - NO...|Whilst I should h...| 2015-08-31|\n",
            "|         US|   13217662| RB32OZDWJ1MXB|B00U7XXKGQ|     429264839|JAM Paper Plastic...| Office Products|          1|          161|        170|   N|                Y| False advertisement|My daughter neede...| 2015-08-31|\n",
            "+-----------+-----------+--------------+----------+--------------+--------------------+----------------+-----------+-------------+-----------+----+-----------------+--------------------+--------------------+-----------+\n",
            "only showing top 20 rows\n",
            "\n"
          ]
        }
      ]
    },
    {
      "cell_type": "code",
      "metadata": {
        "colab": {
          "base_uri": "https://localhost:8080/"
        },
        "id": "8M5Bo2UBMa1x",
        "outputId": "81d0db72-4907-4b17-874c-6fd83c546d6f"
      },
      "source": [
        "helpful_df = filter_df.filter((office_df[\"helpful_votes\"]/office_df[\"total_votes\"]) >= 0.5)\n",
        "helpful_df.show()"
      ],
      "execution_count": 7,
      "outputs": [
        {
          "output_type": "stream",
          "name": "stdout",
          "text": [
            "+-----------+-----------+--------------+----------+--------------+--------------------+----------------+-----------+-------------+-----------+----+-----------------+--------------------+--------------------+-----------+\n",
            "|marketplace|customer_id|     review_id|product_id|product_parent|       product_title|product_category|star_rating|helpful_votes|total_votes|vine|verified_purchase|     review_headline|         review_body|review_date|\n",
            "+-----------+-----------+--------------+----------+--------------+--------------------+----------------+-----------+-------------+-----------+----+-----------------+--------------------+--------------------+-----------+\n",
            "|         US|   11212836|R243UXMMSSZVS6|B00C2MBMNS|     934393421|Lion 2-Pocket Pla...| Office Products|          2|          254|        254|   N|                Y|      Disappointing!|We ordered about ...| 2015-08-31|\n",
            "|         US|   23384746|R2P92EHR0S5GBB|B00C47U5OI|     712795023|24pcs Vitamin pil...| Office Products|          1|          110|        159|   N|                Y|    Screw these guys|I bought these pe...| 2015-08-31|\n",
            "|         US|   45671936| RN93Z4XPNAANY|B001E6C9AS|     353412942|uni-ball Vision E...| Office Products|          5|           31|         31|   N|                Y|              Great!|Got these to take...| 2015-08-31|\n",
            "|         US|   52607844|R1O74T9XO3OPQ4|B00HH32CWW|     441615697|Stabilo Point 68 ...| Office Products|          5|           38|         38|   N|                Y|Both sizes work g...|I had the set of ...| 2015-08-31|\n",
            "|         US|    2640608|R3DMIHE5BMUT0R|B00M1VVWWQ|     538874514|bloom daily plann...| Office Products|          3|           21|         21|   N|                Y|It's almost perfe...|It's almost perfe...| 2015-08-31|\n",
            "|         US|   12887293|R1QWY17NLHQSB5|B001B0BBTW|     781645909|3M Easy Adjust Ke...| Office Products|          5|           36|         36|   N|                Y|Holy smokes Batma...|Lets start with s...| 2015-08-31|\n",
            "|         US|    1718619|R3LANI678T2YQS|B011K7O1HE|     385920359|Gel Pens by Color...| Office Products|          5|           39|         47|   N|                N|BEST VALUE AND QU...|What can I say, t...| 2015-08-31|\n",
            "|         US|   24177974| RLV4XQ49EBYYU|B0095FFUM4|     929613269|Leuchtturm1917 Ha...| Office Products|          1|           56|         65|   N|                Y|       Disappointed.|I bought this hop...| 2015-08-31|\n",
            "|         US|   27911354| RPBPAJKFD0T26|B00XLZP150|     398453199|Thornton's Art Su...| Office Products|          5|           63|         63|   N|                Y|This is a great s...|This is a great s...| 2015-08-31|\n",
            "|         US|   35558106|R1IHO8C56KBN6C|B000086BB1|     788110326|Day-Timer Distres...| Office Products|          1|           61|         64|   N|                Y|Picture of inside...|The inside of thi...| 2015-08-31|\n",
            "|         US|   19761939|R3HZT0MTHYQBU7|B003OCU53S|     593444757|Five Star Pocket ...| Office Products|          1|          221|        221|   N|                Y|I was mislead and...|I was mislead and...| 2015-08-31|\n",
            "|         US|   39647081|R1M9644S4471JU|B013HO4OR0|     831445994|The Pencil Grip K...| Office Products|          5|           20|         20|   N|                Y|It's about time s...|Kwik Stix are ama...| 2015-08-31|\n",
            "|         US|   10917581| R6FPJVAWQ472P|B005IXSXPI|     528615429|Tabletote Plus Po...| Office Products|          5|           33|         34|   N|                Y|Good purchase, ha...|This actually tur...| 2015-08-31|\n",
            "|         US|   43833151| RYQ3KOWJLYPWW|B00PV55FZO|      12118092|720P LED LCD Vide...| Office Products|          4|           19|         20|   N|                Y|Was Skeptical But...|I spent a ton of ...| 2015-08-31|\n",
            "|         US|   43212433|R2J6UYRU7AX8NS|B00T0ZG06O|      41392551|Neo2 Alphasmart W...| Office Products|          5|           23|         24|   N|                Y|          Sweet buy!|As a writer I fou...| 2015-08-31|\n",
            "|         US|    8365945|R32Y1KGXWPHEVP|B00P32EURE|     291018948|RuiChy London Sty...| Office Products|          5|           44|         44|   N|                N|It's seemed a bit...|It's seemed a bit...| 2015-08-31|\n",
            "|         US|    3509589|R3M14RO30UBS32|B00JN2LKRI|     921502629|Vintage Retro Lea...| Office Products|          2|           22|         30|   N|                Y|           Two Stars|It wasnt what i e...| 2015-08-31|\n",
            "|         US|   51042716|R1FJ1LLYMAIINJ|B00006HUP7|     659087223|Avery Clear Full-...| Office Products|          2|           27|         28|   N|                Y|Buyer Beware - NO...|Whilst I should h...| 2015-08-31|\n",
            "|         US|   13217662| RB32OZDWJ1MXB|B00U7XXKGQ|     429264839|JAM Paper Plastic...| Office Products|          1|          161|        170|   N|                Y| False advertisement|My daughter neede...| 2015-08-31|\n",
            "|         US|   40207865|R1O5FVFCO6MEWX|B00NNVDPUK|     243059880|Canon MAXIFY MB23...| Office Products|          1|           41|         42|   N|                Y|Ink Is Used When ...|This is a followu...| 2015-08-31|\n",
            "+-----------+-----------+--------------+----------+--------------+--------------------+----------------+-----------+-------------+-----------+----+-----------------+--------------------+--------------------+-----------+\n",
            "only showing top 20 rows\n",
            "\n"
          ]
        }
      ]
    },
    {
      "cell_type": "code",
      "metadata": {
        "colab": {
          "base_uri": "https://localhost:8080/"
        },
        "id": "zvYLRYSeM5yG",
        "outputId": "97ccaaec-08c8-40de-8ee7-4dc448b3caf1"
      },
      "source": [
        "vine_review_df = helpful_df.filter(helpful_df[\"vine\"] == \"Y\")\n",
        "vine_review_df.show()"
      ],
      "execution_count": 8,
      "outputs": [
        {
          "output_type": "stream",
          "name": "stdout",
          "text": [
            "+-----------+-----------+--------------+----------+--------------+--------------------+----------------+-----------+-------------+-----------+----+-----------------+--------------------+--------------------+-----------+\n",
            "|marketplace|customer_id|     review_id|product_id|product_parent|       product_title|product_category|star_rating|helpful_votes|total_votes|vine|verified_purchase|     review_headline|         review_body|review_date|\n",
            "+-----------+-----------+--------------+----------+--------------+--------------------+----------------+-----------+-------------+-----------+----+-----------------+--------------------+--------------------+-----------+\n",
            "|         US|   35360512|R3JIGR122X50ZV|B00ZI7MI96|     592756103|Scotch Thermal La...| Office Products|          5|         2280|       2314|   Y|                N|Here’s what’s REA...|You’re reading th...| 2015-08-21|\n",
            "|         US|   50120605|R3KV8P8WLD2KKC|B00ZI7MI96|     592756103|Scotch Thermal La...| Office Products|          5|          263|        286|   Y|                N|WOW...what amazin...|We previously had...| 2015-08-16|\n",
            "|         US|   43681584|R2LFY2ZPJ3J7RH|B007YK2RUK|      56475266|V-LIGHT Desk Lamp...| Office Products|          4|           36|         38|   Y|                N|Bulky head unit b...|I was tempted to ...| 2015-07-29|\n",
            "|         US|   53017806|R3P01OXMA0U0CA|B007YK2RUK|      56475266|V-LIGHT Desk Lamp...| Office Products|          5|          114|        117|   Y|                N|A very helpful de...|[[VIDEOID:c5c292f...| 2015-07-27|\n",
            "|         US|   51327523|R2SCMXBD9OQP8Z|B00X7X2QQI|     803423706|Five Star Advance...| Office Products|          2|           22|         26|   Y|                N| Didn't last long...|Of course, it's b...| 2015-07-26|\n",
            "|         US|   53032539|R2FGS9ECOK5IQN|B007YK2RUK|      56475266|V-LIGHT Desk Lamp...| Office Products|          5|           22|         23|   Y|                N|           Excellent|Prior to receivin...| 2015-07-23|\n",
            "|         US|   44737123| R1V9CO41XS6QY|B00UV41QQC|     921068319|V-LIGHT Tradition...| Office Products|          2|           56|         58|   Y|                N|A Lamp's Tale in ...|V-LIGHT Tradition...| 2015-07-12|\n",
            "|         US|   45378171|R1LEP1JGXRY2YT|B00UV41QQC|     921068319|V-LIGHT Tradition...| Office Products|          2|           18|         20|   Y|                N|The pieces are ve...|The V-Light Banke...| 2015-07-05|\n",
            "|         US|   53038997|R1ZWQJ3ZBSIZ1K|B00Y4S5KPE|     951212711|DYMO Standard D1 ...| Office Products|          4|           19|         21|   Y|                Y|Cute for specialt...|The reason being ...| 2015-06-29|\n",
            "|         US|   50523018| RX1G4FUE5HZGN|B00SSXQ7Q2|     444212217|Epson Perfection ...| Office Products|          3|           52|         58|   Y|                N|Good for fast sca...|On the whole this...| 2015-06-28|\n",
            "|         US|   50304462|R2V4NC4FH8IF1Y|B00D5WM8EG|     210157851|V-LIGHT Full Spec...| Office Products|          3|           58|         63|   Y|                N|Decent light outp...|I recently starte...| 2015-06-27|\n",
            "|         US|   45984063|R1F1PGV3MEL818|B00S74JAHK|     757662435|HP LaserJet Pro M...| Office Products|          5|          142|        148|   Y|                N|Amazing printer f...|I'm using this as...| 2015-06-24|\n",
            "|         US|   38867531| RFLM1DZ2O0ZE3|B00VUU7KNY|     228352742|Brother MFC-J6925...| Office Products|          4|           39|         39|   Y|                N|Replaced Our Two ...|Initially we had ...| 2015-06-16|\n",
            "|         US|   52702539|R2BYBP0R21WYYC|B00TVACKEE|     636900793|HP LaserJet Pro M...| Office Products|          5|           30|         33|   Y|                N|Easy set up, terr...|Technology is sim...| 2015-06-15|\n",
            "|         US|   50116247|R28T0ZQLIYREBI|B00UHJDFOM|     519079772|Sharpie Extreme P...| Office Products|          5|           45|         47|   Y|                N|for when you need...|I've been using S...| 2015-06-15|\n",
            "|         US|   49598970|R1EEZAMB8BAB4I|B00Q3KG1L8|     211230192|AmazonBasics 17-S...| Office Products|          5|           45|         49|   Y|                N|Works great for h...|This is a solidly...| 2015-06-12|\n",
            "|         US|   21155796|R1MT9QOVCW2NSC|B00Q3KG1L8|     211230192|AmazonBasics 17-S...| Office Products|          5|           21|         24|   Y|                N|Can handle more p...|This is one beast...| 2015-06-06|\n",
            "|         US|   53081110| R3W9PAL4OVHKD|B00SSXQ7Q2|     444212217|Epson Perfection ...| Office Products|          5|           35|         41|   Y|                N|Small, light and ...|This compact, por...| 2015-06-04|\n",
            "|         US|   47030935| R1NMLNZD7JKLY|B00Q3KFX8U|      41274266|AmazonBasics 6-Sh...| Office Products|          5|           40|         44|   Y|                N|Great basic shred...|This is a really ...| 2015-06-03|\n",
            "|         US|   52121067| RZ2TREG2ME3K7|B00PRDN0R0|     544203328|Pop n' Store Deco...| Office Products|          5|           26|         28|   Y|                N|Smaller than it l...|Yes, the measurem...| 2015-06-01|\n",
            "+-----------+-----------+--------------+----------+--------------+--------------------+----------------+-----------+-------------+-----------+----+-----------------+--------------------+--------------------+-----------+\n",
            "only showing top 20 rows\n",
            "\n"
          ]
        }
      ]
    },
    {
      "cell_type": "code",
      "metadata": {
        "colab": {
          "base_uri": "https://localhost:8080/"
        },
        "id": "An2Z-DWbNSok",
        "outputId": "b46aefe9-5c28-44e0-e9f6-0a9771431fcd"
      },
      "source": [
        "non_vine_review_df = helpful_df.filter(helpful_df[\"vine\"] == \"N\")\n",
        "non_vine_review_df.show()"
      ],
      "execution_count": 9,
      "outputs": [
        {
          "output_type": "stream",
          "name": "stdout",
          "text": [
            "+-----------+-----------+--------------+----------+--------------+--------------------+----------------+-----------+-------------+-----------+----+-----------------+--------------------+--------------------+-----------+\n",
            "|marketplace|customer_id|     review_id|product_id|product_parent|       product_title|product_category|star_rating|helpful_votes|total_votes|vine|verified_purchase|     review_headline|         review_body|review_date|\n",
            "+-----------+-----------+--------------+----------+--------------+--------------------+----------------+-----------+-------------+-----------+----+-----------------+--------------------+--------------------+-----------+\n",
            "|         US|   11212836|R243UXMMSSZVS6|B00C2MBMNS|     934393421|Lion 2-Pocket Pla...| Office Products|          2|          254|        254|   N|                Y|      Disappointing!|We ordered about ...| 2015-08-31|\n",
            "|         US|   23384746|R2P92EHR0S5GBB|B00C47U5OI|     712795023|24pcs Vitamin pil...| Office Products|          1|          110|        159|   N|                Y|    Screw these guys|I bought these pe...| 2015-08-31|\n",
            "|         US|   45671936| RN93Z4XPNAANY|B001E6C9AS|     353412942|uni-ball Vision E...| Office Products|          5|           31|         31|   N|                Y|              Great!|Got these to take...| 2015-08-31|\n",
            "|         US|   52607844|R1O74T9XO3OPQ4|B00HH32CWW|     441615697|Stabilo Point 68 ...| Office Products|          5|           38|         38|   N|                Y|Both sizes work g...|I had the set of ...| 2015-08-31|\n",
            "|         US|    2640608|R3DMIHE5BMUT0R|B00M1VVWWQ|     538874514|bloom daily plann...| Office Products|          3|           21|         21|   N|                Y|It's almost perfe...|It's almost perfe...| 2015-08-31|\n",
            "|         US|   12887293|R1QWY17NLHQSB5|B001B0BBTW|     781645909|3M Easy Adjust Ke...| Office Products|          5|           36|         36|   N|                Y|Holy smokes Batma...|Lets start with s...| 2015-08-31|\n",
            "|         US|    1718619|R3LANI678T2YQS|B011K7O1HE|     385920359|Gel Pens by Color...| Office Products|          5|           39|         47|   N|                N|BEST VALUE AND QU...|What can I say, t...| 2015-08-31|\n",
            "|         US|   24177974| RLV4XQ49EBYYU|B0095FFUM4|     929613269|Leuchtturm1917 Ha...| Office Products|          1|           56|         65|   N|                Y|       Disappointed.|I bought this hop...| 2015-08-31|\n",
            "|         US|   27911354| RPBPAJKFD0T26|B00XLZP150|     398453199|Thornton's Art Su...| Office Products|          5|           63|         63|   N|                Y|This is a great s...|This is a great s...| 2015-08-31|\n",
            "|         US|   35558106|R1IHO8C56KBN6C|B000086BB1|     788110326|Day-Timer Distres...| Office Products|          1|           61|         64|   N|                Y|Picture of inside...|The inside of thi...| 2015-08-31|\n",
            "|         US|   19761939|R3HZT0MTHYQBU7|B003OCU53S|     593444757|Five Star Pocket ...| Office Products|          1|          221|        221|   N|                Y|I was mislead and...|I was mislead and...| 2015-08-31|\n",
            "|         US|   39647081|R1M9644S4471JU|B013HO4OR0|     831445994|The Pencil Grip K...| Office Products|          5|           20|         20|   N|                Y|It's about time s...|Kwik Stix are ama...| 2015-08-31|\n",
            "|         US|   10917581| R6FPJVAWQ472P|B005IXSXPI|     528615429|Tabletote Plus Po...| Office Products|          5|           33|         34|   N|                Y|Good purchase, ha...|This actually tur...| 2015-08-31|\n",
            "|         US|   43833151| RYQ3KOWJLYPWW|B00PV55FZO|      12118092|720P LED LCD Vide...| Office Products|          4|           19|         20|   N|                Y|Was Skeptical But...|I spent a ton of ...| 2015-08-31|\n",
            "|         US|   43212433|R2J6UYRU7AX8NS|B00T0ZG06O|      41392551|Neo2 Alphasmart W...| Office Products|          5|           23|         24|   N|                Y|          Sweet buy!|As a writer I fou...| 2015-08-31|\n",
            "|         US|    8365945|R32Y1KGXWPHEVP|B00P32EURE|     291018948|RuiChy London Sty...| Office Products|          5|           44|         44|   N|                N|It's seemed a bit...|It's seemed a bit...| 2015-08-31|\n",
            "|         US|    3509589|R3M14RO30UBS32|B00JN2LKRI|     921502629|Vintage Retro Lea...| Office Products|          2|           22|         30|   N|                Y|           Two Stars|It wasnt what i e...| 2015-08-31|\n",
            "|         US|   51042716|R1FJ1LLYMAIINJ|B00006HUP7|     659087223|Avery Clear Full-...| Office Products|          2|           27|         28|   N|                Y|Buyer Beware - NO...|Whilst I should h...| 2015-08-31|\n",
            "|         US|   13217662| RB32OZDWJ1MXB|B00U7XXKGQ|     429264839|JAM Paper Plastic...| Office Products|          1|          161|        170|   N|                Y| False advertisement|My daughter neede...| 2015-08-31|\n",
            "|         US|   40207865|R1O5FVFCO6MEWX|B00NNVDPUK|     243059880|Canon MAXIFY MB23...| Office Products|          1|           41|         42|   N|                Y|Ink Is Used When ...|This is a followu...| 2015-08-31|\n",
            "+-----------+-----------+--------------+----------+--------------+--------------------+----------------+-----------+-------------+-----------+----+-----------------+--------------------+--------------------+-----------+\n",
            "only showing top 20 rows\n",
            "\n"
          ]
        }
      ]
    },
    {
      "cell_type": "code",
      "metadata": {
        "colab": {
          "base_uri": "https://localhost:8080/"
        },
        "id": "9GfalAFINdRb",
        "outputId": "0512ea9f-482e-4743-c435-95675995a678"
      },
      "source": [
        "five_star_count = helpful_df.select(\"vine\",\"review_id\").where(helpful_df.star_rating == 5).groupBy(\"vine\").count().withColumnRenamed(\"count\",\"5 Star Review\")\n",
        "five_star_count.show()"
      ],
      "execution_count": 10,
      "outputs": [
        {
          "output_type": "stream",
          "name": "stdout",
          "text": [
            "+----+-------------+\n",
            "|vine|5 Star Review|\n",
            "+----+-------------+\n",
            "|   Y|          430|\n",
            "|   N|        19233|\n",
            "+----+-------------+\n",
            "\n"
          ]
        }
      ]
    },
    {
      "cell_type": "code",
      "metadata": {
        "colab": {
          "base_uri": "https://localhost:8080/"
        },
        "id": "SAit0hG2j7FH",
        "outputId": "4e76b3e6-12c8-4702-8ad8-8f5da0a9c116"
      },
      "source": [
        "total_count = helpful_df.groupBy(\"vine\").agg({\"review_id\": \"count\"}).withColumnRenamed(\"count(review_id)\",\"Total Review\")\n",
        "total_count.show()"
      ],
      "execution_count": 11,
      "outputs": [
        {
          "output_type": "stream",
          "name": "stdout",
          "text": [
            "+----+------------+\n",
            "|vine|Total Review|\n",
            "+----+------------+\n",
            "|   Y|         969|\n",
            "|   N|       43745|\n",
            "+----+------------+\n",
            "\n"
          ]
        }
      ]
    },
    {
      "cell_type": "code",
      "metadata": {
        "colab": {
          "base_uri": "https://localhost:8080/"
        },
        "id": "YKdkA0nhlH3G",
        "outputId": "69bc82fe-0fd4-45ad-9f0a-44429412d67a"
      },
      "source": [
        "vine_df = total_count.join(five_star_count, on=\"vine\", how=\"outer\").withColumn(\"percentage\",(five_star_count[\"5 Star Review\"]/total_count[\"Total Review\"]))\n",
        "vine_df.show()"
      ],
      "execution_count": 12,
      "outputs": [
        {
          "output_type": "stream",
          "name": "stdout",
          "text": [
            "+----+------------+-------------+-------------------+\n",
            "|vine|Total Review|5 Star Review|         percentage|\n",
            "+----+------------+-------------+-------------------+\n",
            "|   Y|         969|          430| 0.4437564499484004|\n",
            "|   N|       43745|        19233|0.43966167562007086|\n",
            "+----+------------+-------------+-------------------+\n",
            "\n"
          ]
        }
      ]
    }
  ]
}